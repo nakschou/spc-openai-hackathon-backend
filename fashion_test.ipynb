{
 "cells": [
  {
   "cell_type": "code",
   "execution_count": 57,
   "metadata": {},
   "outputs": [],
   "source": [
    "import dspy\n",
    "import os\n",
    "import json\n",
    "from dotenv import load_dotenv"
   ]
  },
  {
   "cell_type": "code",
   "execution_count": 2,
   "metadata": {},
   "outputs": [],
   "source": [
    "load_dotenv()\n",
    "OPENAI_API_KEY = os.getenv(\"OPENAI_API_KEY\")"
   ]
  },
  {
   "cell_type": "code",
   "execution_count": null,
   "metadata": {},
   "outputs": [],
   "source": [
    "turbo = dspy.OpenAI(model='gpt-4', api_key=OPENAI_API_KEY)\n",
    "dspy.configure(lm=turbo)"
   ]
  },
  {
   "cell_type": "code",
   "execution_count": 65,
   "metadata": {},
   "outputs": [],
   "source": [
    "from openai import OpenAI\n",
    "\n",
    "client = OpenAI()\n",
    "\n",
    "def get_desc(link):\n",
    "  response = client.chat.completions.create(\n",
    "    model=\"gpt-4-vision-preview\",\n",
    "    messages=[\n",
    "      {\n",
    "        \"role\": \"user\",\n",
    "        \"content\": [\n",
    "          {\"type\": \"text\", \"text\": \"What are all of the articles of clothing in this image? Format the response in JSON object format, \\\n",
    "            with the following categories as keys: 'pants, shorts, hats, shirts, tshirts, shoes, jackets'. For each entry in any of the \\\n",
    "              categories, make sure to include a description of the color, material used, and any other relevant details. Make sure not \\\n",
    "                to include newline characters in the output or other words or characters like 'json'\"},\n",
    "          {\n",
    "            \"type\": \"image_url\",\n",
    "            \"image_url\": {\n",
    "              \"url\": link,\n",
    "            },\n",
    "          },\n",
    "        ],\n",
    "      }\n",
    "    ],\n",
    "    max_tokens=300,\n",
    "  )\n",
    "\n",
    "  return response.choices[0].message.content\n",
    "\n",
    "def gen_image(desc):\n",
    "  response = client.images.generate(\n",
    "  model=\"dall-e-3\",\n",
    "  prompt=desc,\n",
    "  size=\"1024x1024\",\n",
    "  quality=\"standard\",\n",
    "  n=1)\n",
    "\n",
    "  return response.data[0].url    \n",
    "\n",
    "#create a function to strip all newlines from the json and convert it to a json object\n",
    "def strip_newlines(desc):\n",
    "    desc = desc.replace('\\n', '')\n",
    "    desc = json.loads(desc)\n",
    "    return desc\n"
   ]
  },
  {
   "cell_type": "code",
   "execution_count": 66,
   "metadata": {},
   "outputs": [],
   "source": [
    "fit_1 = \"https://i.pinimg.com/736x/95/e9/5d/95e95d3f42e4cbde5a6cddd2cea30979.jpg\"\n",
    "fit_2 = \"https://i.pinimg.com/736x/fe/5f/bd/fe5fbd52c3648d246168f8fde952eac6.jpg\"\n",
    "fit_3 = \"https://i.pinimg.com/736x/4e/1d/e2/4e1de25ea47a0b57d56a80a3da836ff8.jpg\"\n"
   ]
  },
  {
   "cell_type": "code",
   "execution_count": 67,
   "metadata": {},
   "outputs": [],
   "source": [
    "desc_3 = get_desc(fit_3)\n",
    "outputs = []\n",
    "for i in range(3):\n",
    "    image = gen_image(desc_3)\n",
    "    outputs.append(image)"
   ]
  },
  {
   "cell_type": "code",
   "execution_count": 68,
   "metadata": {},
   "outputs": [],
   "source": [
    "desc_3 = get_desc(fit_1)"
   ]
  },
  {
   "cell_type": "code",
   "execution_count": 71,
   "metadata": {},
   "outputs": [
    {
     "data": {
      "text/plain": [
       "{'pants': [{'color': 'blue',\n",
       "   'material': 'denim',\n",
       "   'details': 'light wash, casual fit'}],\n",
       " 'shorts': [],\n",
       " 'hats': [],\n",
       " 'shirts': [{'color': 'olive green',\n",
       "   'material': 'cotton or cotton blend',\n",
       "   'details': 'long sleeve, button-up, front pocket with a flap and button closure'}],\n",
       " 'tshirts': [{'color': 'white',\n",
       "   'material': 'cotton or cotton blend',\n",
       "   'details': 'crewneck, short sleeve'}],\n",
       " 'shoes': [],\n",
       " 'jackets': []}"
      ]
     },
     "execution_count": 71,
     "metadata": {},
     "output_type": "execute_result"
    }
   ],
   "source": [
    "final = strip_newlines(desc_3)\n",
    "final"
   ]
  },
  {
   "cell_type": "code",
   "execution_count": 42,
   "metadata": {},
   "outputs": [],
   "source": [
    "outputs = []\n",
    "for i in range(3):\n",
    "    image = gen_image(desc_3)\n",
    "    outputs.append(image)"
   ]
  },
  {
   "cell_type": "code",
   "execution_count": 43,
   "metadata": {},
   "outputs": [
    {
     "data": {
      "text/plain": [
       "['https://oaidalleapiprodscus.blob.core.windows.net/private/org-GmJHIHWpURleiNtoZoMvn5zL/user-5ziGLaivLqj6FeQvlHLYODTi/img-2qWkiJVvKxfb2CLKwdFuFLNr.png?st=2024-03-02T05%3A14%3A39Z&se=2024-03-02T07%3A14%3A39Z&sp=r&sv=2021-08-06&sr=b&rscd=inline&rsct=image/png&skoid=6aaadede-4fb3-4698-a8f6-684d7786b067&sktid=a48cca56-e6da-484e-a814-9c849652bcb3&skt=2024-03-02T03%3A05%3A45Z&ske=2024-03-03T03%3A05%3A45Z&sks=b&skv=2021-08-06&sig=uhS4BHET/E8kOO%2BpJlF1jQ7k1PAjQxpt9lwETxuuX2U%3D',\n",
       " 'https://oaidalleapiprodscus.blob.core.windows.net/private/org-GmJHIHWpURleiNtoZoMvn5zL/user-5ziGLaivLqj6FeQvlHLYODTi/img-IP4yAV1hXLzBXWEKOBIBq9xN.png?st=2024-03-02T05%3A14%3A51Z&se=2024-03-02T07%3A14%3A51Z&sp=r&sv=2021-08-06&sr=b&rscd=inline&rsct=image/png&skoid=6aaadede-4fb3-4698-a8f6-684d7786b067&sktid=a48cca56-e6da-484e-a814-9c849652bcb3&skt=2024-03-01T13%3A27%3A59Z&ske=2024-03-02T13%3A27%3A59Z&sks=b&skv=2021-08-06&sig=Tic6FkBCth4PpJbUA/HKQWoMFKBQjXhwgXdeeBNSBJU%3D',\n",
       " 'https://oaidalleapiprodscus.blob.core.windows.net/private/org-GmJHIHWpURleiNtoZoMvn5zL/user-5ziGLaivLqj6FeQvlHLYODTi/img-Lc4a2hYQSw0sRCmZFc8nSTfm.png?st=2024-03-02T05%3A15%3A08Z&se=2024-03-02T07%3A15%3A08Z&sp=r&sv=2021-08-06&sr=b&rscd=inline&rsct=image/png&skoid=6aaadede-4fb3-4698-a8f6-684d7786b067&sktid=a48cca56-e6da-484e-a814-9c849652bcb3&skt=2024-03-01T15%3A13%3A55Z&ske=2024-03-02T15%3A13%3A55Z&sks=b&skv=2021-08-06&sig=s9w/SnbrvOWmMPm%2BdbUNXrpCqV0IXr%2BdOPGLWqxjkHI%3D']"
      ]
     },
     "execution_count": 43,
     "metadata": {},
     "output_type": "execute_result"
    }
   ],
   "source": [
    "outputs"
   ]
  },
  {
   "cell_type": "code",
   "execution_count": null,
   "metadata": {},
   "outputs": [],
   "source": []
  },
  {
   "cell_type": "code",
   "execution_count": null,
   "metadata": {},
   "outputs": [],
   "source": []
  }
 ],
 "metadata": {
  "kernelspec": {
   "display_name": "spc-hack",
   "language": "python",
   "name": "python3"
  },
  "language_info": {
   "codemirror_mode": {
    "name": "ipython",
    "version": 3
   },
   "file_extension": ".py",
   "mimetype": "text/x-python",
   "name": "python",
   "nbconvert_exporter": "python",
   "pygments_lexer": "ipython3",
   "version": "3.11.8"
  }
 },
 "nbformat": 4,
 "nbformat_minor": 2
}
