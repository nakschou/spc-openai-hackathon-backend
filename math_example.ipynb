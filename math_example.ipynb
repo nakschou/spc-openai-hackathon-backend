{
 "cells": [
  {
   "cell_type": "code",
   "execution_count": 8,
   "metadata": {},
   "outputs": [],
   "source": [
    "import dspy\n",
    "import os\n",
    "from dotenv import load_dotenv"
   ]
  },
  {
   "cell_type": "code",
   "execution_count": 9,
   "metadata": {},
   "outputs": [],
   "source": [
    "load_dotenv()\n",
    "OPENAI_API_KEY = os.getenv(\"OPENAI_API_KEY\")"
   ]
  },
  {
   "cell_type": "code",
   "execution_count": 10,
   "metadata": {},
   "outputs": [],
   "source": [
    "turbo = dspy.OpenAI(model='gpt-3.5-turbo-0125', api_key=OPENAI_API_KEY)\n",
    "dspy.configure(lm=turbo)"
   ]
  },
  {
   "cell_type": "code",
   "execution_count": 11,
   "metadata": {},
   "outputs": [],
   "source": [
    "class SystemOfEquations(dspy.Signature):\n",
    "    \"\"\"Give an answer to the given systems of equations using the substitution method.\"\"\"\n",
    "\n",
    "    equations = dspy.InputField(desc=\"Comma-separated list of equations\")\n",
    "    answer = dspy.OutputField(desc=\"Answer to the given system of equations in the form of a json, with the keys being the variables and the values being the solutions.\")"
   ]
  },
  {
   "cell_type": "code",
   "execution_count": 12,
   "metadata": {},
   "outputs": [],
   "source": [
    "qa = dspy.ChainOfThought(SystemOfEquations)"
   ]
  },
  {
   "cell_type": "code",
   "execution_count": 13,
   "metadata": {},
   "outputs": [],
   "source": [
    "answer = qa(equations=\"3x+3y=42,2x-2y=0\")"
   ]
  },
  {
   "cell_type": "code",
   "execution_count": 14,
   "metadata": {},
   "outputs": [
    {
     "data": {
      "text/plain": [
       "Prediction(\n",
       "    rationale='solve this system of equations using the substitution method. \\n\\nStep 1: Solve one of the equations for one variable in terms of the other. \\nFrom the second equation, we can solve for x in terms of y:\\n2x - 2y = 0\\n2x = 2y\\nx = y\\n\\nStep 2: Substitute the expression found in step 1 into the other equation. \\nSubstitute x = y into the first equation:\\n3(y) + 3y = 42\\n6y = 42\\ny = 7\\n\\nStep 3: Substitute the value of y back into the expression found in step 1 to find the value of x. \\nx = y\\nx = 7',\n",
       "    answer='{\\n    \"x\": 7,\\n    \"y\": 7\\n}'\n",
       ")"
      ]
     },
     "execution_count": 14,
     "metadata": {},
     "output_type": "execute_result"
    }
   ],
   "source": [
    "answer"
   ]
  }
 ],
 "metadata": {
  "kernelspec": {
   "display_name": "bootcampfeb24",
   "language": "python",
   "name": "python3"
  },
  "language_info": {
   "codemirror_mode": {
    "name": "ipython",
    "version": 3
   },
   "file_extension": ".py",
   "mimetype": "text/x-python",
   "name": "python",
   "nbconvert_exporter": "python",
   "pygments_lexer": "ipython3",
   "version": "3.11.8"
  }
 },
 "nbformat": 4,
 "nbformat_minor": 2
}
