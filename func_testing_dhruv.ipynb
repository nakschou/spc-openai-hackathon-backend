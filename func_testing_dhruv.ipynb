{
 "cells": [
  {
   "cell_type": "code",
   "execution_count": 97,
   "metadata": {},
   "outputs": [],
   "source": [
    "import requests\n",
    "import json\n",
    "from dotenv import load_dotenv\n",
    "import os\n",
    "import dspy"
   ]
  },
  {
   "cell_type": "code",
   "execution_count": 102,
   "metadata": {},
   "outputs": [],
   "source": [
    "load_dotenv()\n",
    "OPENROUTER_API_KEY = os.getenv(\"OPENROUTER_API_KEY\")\n",
    "OPENAI_API_KEY = os.getenv(\"OPENAI_API_KEY\")"
   ]
  },
  {
   "cell_type": "code",
   "execution_count": 70,
   "metadata": {},
   "outputs": [
    {
     "data": {
      "text/plain": [
       "'You can ignore this.'"
      ]
     },
     "execution_count": 70,
     "metadata": {},
     "output_type": "execute_result"
    }
   ],
   "source": [
    "response = requests.post(\n",
    "  url=\"https://openrouter.ai/api/v1/chat/completions\",\n",
    "  headers={\n",
    "    \"Authorization\": f\"Bearer {OPENROUTER_API_KEY}\",\n",
    "  },\n",
    "  data=json.dumps({\n",
    "    \"model\": \"perplexity/sonar-small-chat\", # Optional\n",
    "    \"messages\": [\n",
    "      {\"role\": \"user\", \"content\": \"Give me links to current news articles related to this tweet: January 6th was a dark day for America. We must never forget the insurrection.\" \\\n",
    "        + \"Make sure to format the output so that there is a list of dictionaries, with each dictionaries containing a title and a link to the article. Only return with the object in string format and no other text at all outside of it. \\\n",
    "          Do not have the string 'json' in the output\"}\n",
    "    ]\n",
    "  })\n",
    ")\n",
    "data = json.loads(response.text)\n",
    "message_content = data['choices'][0]['message']['content']\n",
    "# lines = message_content.split('\\n\\n')\n",
    "# out = json.dumps(lines)\n",
    "message_content\n"
   ]
  },
  {
   "cell_type": "code",
   "execution_count": 34,
   "metadata": {},
   "outputs": [
    {
     "data": {
      "text/plain": [
       "[{'title': 'Biden Vows to Bail Out Struggling Former Coronavirus Hotspots',\n",
       "  'link': 'https://news.bloomberglaw.com/coronavirus-covid-19/biden-vows-to-bail-out-struggling-former-coronavirus-hotspots'},\n",
       " {'title': 'Donald Trump, 55 Other Lawmakers Testify They Were Treated Badly in Capitol Strife',\n",
       "  'link': 'https://www.nytimes.com/2021/06/30/us/politics/trump-testimony-capitol-riot.html'},\n",
       " {'title': \"Trump's CPAC Speech Oozes of 2020, Offers Little About 2024\",\n",
       "  'link': 'https://www.politico.com/news/2021/07/11/trump-cpac-speech-495378'},\n",
       " {'title': 'US Military to Leave Afghanistan by September 11',\n",
       "  'link': 'https://www.npr.org/2021/06/19/1008715273/us-military-to-leave-afghanistan-by-september-11'},\n",
       " {'title': 'Biden Finds Bipartisan Compromise on Borders, Major Investment Roads and Bridges',\n",
       "  'link': 'https://www.politico.com/news/2021/07/06/biden-republican-compromise-494754'}]"
      ]
     },
     "execution_count": 34,
     "metadata": {},
     "output_type": "execute_result"
    }
   ],
   "source": [
    "entries"
   ]
  },
  {
   "cell_type": "code",
   "execution_count": 26,
   "metadata": {},
   "outputs": [],
   "source": [
    "#loop through indexes 2, 4, 6, 8, 10:\n",
    "for i in range(2, len(lines), 2):\n",
    "    title = lines[i]\n",
    "    link = lines[i+1]\n",
    "    print(f\"{title}: {link}\")"
   ]
  },
  {
   "cell_type": "code",
   "execution_count": 138,
   "metadata": {},
   "outputs": [],
   "source": [
    "def text_to_politics(text):\n",
    "    response = requests.post(\n",
    "        url=\"https://openrouter.ai/api/v1/chat/completions\",\n",
    "        headers={\n",
    "            \"Authorization\": f\"Bearer {OPENROUTER_API_KEY}\",\n",
    "        },\n",
    "        data=json.dumps({\n",
    "            \"model\": \"perplexity/sonar-small-chat\", # Optional\n",
    "            \"messages\": [\n",
    "            {\"role\": \"user\", \"content\": \"Give me the top three links to current news articles related to this tweet: \" + text \\\n",
    "                + \"Make sure to format the output so that there is a list of dictionaries, with each dictionaries containing a title and a link to the article.\" \\\n",
    "                    + \"the output should be in json format\"}\n",
    "            ]\n",
    "        })\n",
    "    )\n",
    "    data = json.loads(response.text)\n",
    "    message_content = data['choices'][0]['message']['content']\n",
    "\n",
    "\n",
    "    \n",
    "\n",
    "    class classify_party(dspy.Signature):\n",
    "        \"\"\"Given tweet text, classify the political party of the author\"\"\"\n",
    "        text = dspy.InputField()\n",
    "        party = dspy.OutputField(desc=\"Right, Left, or Center\")\n",
    "    party_output = dspy.Predict(classify_party)\n",
    "    party = party_output(text=text).toDict()['party']\n",
    "    \n",
    "    \n",
    "    return {\"party\": party, \"articles\": message_content}"
   ]
  },
  {
   "cell_type": "code",
   "execution_count": 140,
   "metadata": {},
   "outputs": [
    {
     "name": "stdout",
     "output_type": "stream",
     "text": [
      "{'party': 'Left', 'articles': '{\\n  \"articles\": [{\\n    \"title\": \"How Different Accounts of the Riots in Washington D.C. Paint a Daunting Picture of America\",\\n    \"link\": \"https://www.theatlantic.com/magazine/archive/2021/02/how-different-accounts-of-the-riots-in-washington-d-c-paint-a-daunting-picture-of-america/618133/\"\\n  }, {\\n    \"title\": \"U.S. House Science Committee Chairman Holds Hearing on Assault on U.S. Capitol\",\\n    \"link\": \"https://science.house.gov/latest-news/husc-chairman-holds-field-hearing-assault-on-u-s-capitol\"\\n  }, {\\n    \"title\": \"Giuliani,, Trump\\'s Attempts to Overturn Vote Are Rejected by 300\",\\n    \"link\": \"https://twitter.com/realDonaldTrump/status/1355416824902403073\"\\n  }]\\n}'}\n"
     ]
    }
   ],
   "source": [
    "print(text_to_politics(\"January 6th was a dark day for America. We must never forget the insurrection.\"))"
   ]
  },
  {
   "cell_type": "code",
   "execution_count": 103,
   "metadata": {},
   "outputs": [],
   "source": [
    "turbo = dspy.OpenAI(model='gpt-4', api_key=OPENAI_API_KEY)\n",
    "dspy.configure(lm=turbo)"
   ]
  },
  {
   "cell_type": "code",
   "execution_count": 132,
   "metadata": {},
   "outputs": [
    {
     "data": {
      "text/plain": [
       "'Left'"
      ]
     },
     "execution_count": 132,
     "metadata": {},
     "output_type": "execute_result"
    }
   ],
   "source": [
    "text = \"\"\"\n",
    "Here are the top three links to current news articles related to the tweet: \n",
    "\n",
    "```json\n",
    "[{\n",
    "    \"title\": \"U.S. Capitol Riots: One Year Later, Reliving That Dark Day for America\",\n",
    "    \"link\": \"https://www.npr.org/2022/01/06/1054647356/us-capitol-riots-one-year-later-reliving-that-dark-day-for-america\"\n",
    "}, {\n",
    "    \"title\": \"One Year Later, A Look Into The Unforeseen Consequences Of January 6th\",\n",
    "    \"link\": \"https://www.forbes.com/sites/madelinebergman/2022/01/06/one-year-later-a-look-into-the-unforeseen-consequences-of-january-6th/?sh=7f50fa5b7b54\"\n",
    "}, {\n",
    "    \"title\": \"Bidenamazonaws.com\",\n",
    "    \"link\": \"https://www.presidency.ucsb.edu/node/349507\"\n",
    "}]\n",
    "```\n",
    "\"\"\"\n",
    "class format_output(dspy.Signature):\n",
    "    \"\"\"Given a string representation of a json object, remove the top key and just return a list of json objects.\"\"\"\n",
    "    text = dspy.InputField()\n",
    "    party = dspy.OutputField(desc=\"list of json objects\")\n",
    "party = dspy.Predict(format_output)\n",
    "answer = party(text=text)\n",
    "answer = answer.toDict()['party']\n",
    "obj = json.dumps(answer)\n",
    "obj\n",
    "\n",
    "class classify_party(dspy.Signature):\n",
    "    \"\"\"Given tweet text, classify the political party of the author\"\"\"\n",
    "    text = dspy.InputField()\n",
    "    party = dspy.OutputField(desc=\"Right, Left, or Center\")\n",
    "party = dspy.Predict(classify_party)\n",
    "answer = party(text=\"January 6th was a dark day for America. We must never forget the insurrection.\")\n",
    "answer.toDict()['party']\n",
    "\n"
   ]
  },
  {
   "cell_type": "code",
   "execution_count": null,
   "metadata": {},
   "outputs": [],
   "source": []
  },
  {
   "cell_type": "code",
   "execution_count": null,
   "metadata": {},
   "outputs": [],
   "source": []
  }
 ],
 "metadata": {
  "kernelspec": {
   "display_name": "spc-hack",
   "language": "python",
   "name": "python3"
  },
  "language_info": {
   "codemirror_mode": {
    "name": "ipython",
    "version": 3
   },
   "file_extension": ".py",
   "mimetype": "text/x-python",
   "name": "python",
   "nbconvert_exporter": "python",
   "pygments_lexer": "ipython3",
   "version": "3.11.8"
  }
 },
 "nbformat": 4,
 "nbformat_minor": 2
}
