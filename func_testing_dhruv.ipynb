{
 "cells": [
  {
   "cell_type": "code",
   "execution_count": 97,
   "metadata": {},
   "outputs": [],
   "source": [
    "import requests\n",
    "import json\n",
    "from dotenv import load_dotenv\n",
    "import os\n",
    "import dspy"
   ]
  },
  {
   "cell_type": "code",
   "execution_count": 102,
   "metadata": {},
   "outputs": [],
   "source": [
    "load_dotenv()\n",
    "OPENROUTER_API_KEY = os.getenv(\"OPENROUTER_API_KEY\")\n",
    "OPENAI_API_KEY = os.getenv(\"OPENAI_API_KEY\")"
   ]
  },
  {
   "cell_type": "code",
   "execution_count": 70,
   "metadata": {},
   "outputs": [
    {
     "data": {
      "text/plain": [
       "'You can ignore this.'"
      ]
     },
     "execution_count": 70,
     "metadata": {},
     "output_type": "execute_result"
    }
   ],
   "source": [
    "response = requests.post(\n",
    "  url=\"https://openrouter.ai/api/v1/chat/completions\",\n",
    "  headers={\n",
    "    \"Authorization\": f\"Bearer {OPENROUTER_API_KEY}\",\n",
    "  },\n",
    "  data=json.dumps({\n",
    "    \"model\": \"perplexity/sonar-small-chat\", # Optional\n",
    "    \"messages\": [\n",
    "      {\"role\": \"user\", \"content\": \"Give me links to current news articles related to this tweet: January 6th was a dark day for America. We must never forget the insurrection.\" \\\n",
    "        + \"Make sure to format the output so that there is a list of dictionaries, with each dictionaries containing a title and a link to the article. Only return with the object in string format and no other text at all outside of it. \\\n",
    "          Do not have the string 'json' in the output\"}\n",
    "    ]\n",
    "  })\n",
    ")\n",
    "data = json.loads(response.text)\n",
    "message_content = data['choices'][0]['message']['content']\n",
    "# lines = message_content.split('\\n\\n')\n",
    "# out = json.dumps(lines)\n",
    "message_content\n"
   ]
  },
  {
   "cell_type": "code",
   "execution_count": 34,
   "metadata": {},
   "outputs": [
    {
     "data": {
      "text/plain": [
       "[{'title': 'Biden Vows to Bail Out Struggling Former Coronavirus Hotspots',\n",
       "  'link': 'https://news.bloomberglaw.com/coronavirus-covid-19/biden-vows-to-bail-out-struggling-former-coronavirus-hotspots'},\n",
       " {'title': 'Donald Trump, 55 Other Lawmakers Testify They Were Treated Badly in Capitol Strife',\n",
       "  'link': 'https://www.nytimes.com/2021/06/30/us/politics/trump-testimony-capitol-riot.html'},\n",
       " {'title': \"Trump's CPAC Speech Oozes of 2020, Offers Little About 2024\",\n",
       "  'link': 'https://www.politico.com/news/2021/07/11/trump-cpac-speech-495378'},\n",
       " {'title': 'US Military to Leave Afghanistan by September 11',\n",
       "  'link': 'https://www.npr.org/2021/06/19/1008715273/us-military-to-leave-afghanistan-by-september-11'},\n",
       " {'title': 'Biden Finds Bipartisan Compromise on Borders, Major Investment Roads and Bridges',\n",
       "  'link': 'https://www.politico.com/news/2021/07/06/biden-republican-compromise-494754'}]"
      ]
     },
     "execution_count": 34,
     "metadata": {},
     "output_type": "execute_result"
    }
   ],
   "source": [
    "entries"
   ]
  },
  {
   "cell_type": "code",
   "execution_count": 26,
   "metadata": {},
   "outputs": [],
   "source": [
    "#loop through indexes 2, 4, 6, 8, 10:\n",
    "for i in range(2, len(lines), 2):\n",
    "    title = lines[i]\n",
    "    link = lines[i+1]\n",
    "    print(f\"{title}: {link}\")"
   ]
  },
  {
   "cell_type": "code",
   "execution_count": 202,
   "metadata": {},
   "outputs": [],
   "source": [
    "def text_to_politics(text):\n",
    "    response = requests.post(\n",
    "        url=\"https://openrouter.ai/api/v1/chat/completions\",\n",
    "        headers={\n",
    "            \"Authorization\": f\"Bearer {OPENROUTER_API_KEY}\",\n",
    "        },\n",
    "        data=json.dumps({\n",
    "            \"model\": \"perplexity/sonar-small-online\", # Optional\n",
    "            \"messages\": [\n",
    "            {\"role\": \"user\", \"content\": \"Give me the top three links to current news articles in a numbered list related to this tweet: \" + text \\\n",
    "                + \"make sure to included the title  followed by a colon and then the link to the article\"}\n",
    "            ]\n",
    "        })\n",
    "    )\n",
    "    data = json.loads(response.text)\n",
    "    message_content = data['choices'][0]['message']['content']\n",
    "\n",
    "    def get_title_link(input_text):\n",
    "        class get_title(dspy.Signature):\n",
    "            \"\"\"Given a string with a title in it, give me just the title as a string\"\"\"\n",
    "            text = dspy.InputField()\n",
    "            title = dspy.OutputField(desc=\"title of article\")\n",
    "        title = dspy.Predict(get_title)\n",
    "        title_out = title(text=input_text).toDict()['title']\n",
    "\n",
    "        class get_link(dspy.Signature):\n",
    "            \"\"\"Given a string with a link in it, give me just the link as a string\"\"\"\n",
    "            text = dspy.InputField()\n",
    "            link = dspy.OutputField(desc=\"link to article\")\n",
    "        link = dspy.Predict(get_link)\n",
    "        link_out = link(text=input_text).toDict()['link']\n",
    "\n",
    "        return {\"title\": title_out, \"link\": link_out}\n",
    "\n",
    "    class format_output(dspy.Signature):\n",
    "        \"\"\"Given a string of articles, give me the title and link of each article\"\"\"\n",
    "        text = dspy.InputField()\n",
    "        formatted = dspy.OutputField(desc=\"title of article and link to article\")\n",
    "    formatted = dspy.Predict(format_output)\n",
    "    answer = formatted(text=message_content)\n",
    "    answer = answer.toDict()['formatted']\n",
    "    lines = answer.split('\\n')\n",
    "\n",
    "    articles = []\n",
    "\n",
    "    for line in lines:\n",
    "        articles.append(get_title_link(line))\n",
    "\n",
    "    class classify_party(dspy.Signature):\n",
    "        \"\"\"Given tweet text, classify the political party of the author\"\"\"\n",
    "        text = dspy.InputField()\n",
    "        party = dspy.OutputField(desc=\"Right, Left, or Center\")\n",
    "    party_output = dspy.Predict(classify_party)\n",
    "    party = party_output(text=text).toDict()['party']\n",
    "    \n",
    "    \n",
    "    return {\"party\": party, \"articles\": articles}"
   ]
  },
  {
   "cell_type": "code",
   "execution_count": 203,
   "metadata": {},
   "outputs": [
    {
     "name": "stdout",
     "output_type": "stream",
     "text": [
      "{'party': 'Left', 'articles': [{'title': 'January 6 insurrection news: Trials, investigations and more', 'link': 'https://www.nbcnews.com/january-6-insurrection-us-capitol'}, {'title': 'Republican lawmaker defends Trump endorsement despite Trump downplaying Jan. 6', 'link': 'https://abcnews.go.com/US/january6/'}, {'title': 'U.S. Capitol Riot', 'link': 'https://www.washingtonpost.com/january-6-capitol-riot/'}, {'title': 'Political turmoil exposed as representatives reveal their uncertainty on January 6', 'link': 'https://www.usatoday.com/story/news/politics/2021/01/09/january-6-capitol-violence-exposes-political-turmoil-members-congress-uncertain'}]}\n"
     ]
    }
   ],
   "source": [
    "print(text_to_politics(\"January 6th was a dark day for America. We must never forget the insurrection.\"))"
   ]
  },
  {
   "cell_type": "code",
   "execution_count": 103,
   "metadata": {},
   "outputs": [],
   "source": [
    "turbo = dspy.OpenAI(model='gpt-4', api_key=OPENAI_API_KEY)\n",
    "dspy.configure(lm=turbo)"
   ]
  },
  {
   "cell_type": "code",
   "execution_count": 196,
   "metadata": {},
   "outputs": [
    {
     "data": {
      "text/plain": [
       "[\"1. Title: Donald Trump's Middle Eastern Improvements, Link: https://www.cnn.com/2021/01/15/politics/trump-middle-east-policy\",\n",
       " '2. Title: After Capitol Riot, Republican Party Contends with Post-Trump Fragile Unity, Link: https://www.washingtonpost.com/politics/republican-party-fragile-unity-after-capitol-riot/2020/12/23/db703c5c-a6f9-11eb-82d5-0035628ccf41_story.html',\n",
       " '3. Title: January 6th Attack on the Capitol, Link: https://www.npr.org/2021/01/16/957234700/january-6-']"
      ]
     },
     "execution_count": 196,
     "metadata": {},
     "output_type": "execute_result"
    }
   ],
   "source": [
    "text = \"\"\"\n",
    "1. **Donald Trump\\'s Middle Eastern Improvements**: \"https://www.cnn.com/2021/01/15/politics/trump-middle-east-policy\" :)\\n2. **After Capitol Riot, Republican Party Contends with Post-Trump Fragile Unity**: \"https://www.washingtonpost.com/politics/republican-party-fragile-unity-after-capitol-riot/2020/12/23/db703c5c-a6f9-11eb-82d5-0035628ccf41_story.html\" :)\\n3. **January 6th Attack on the Capitol**: \"https://www.npr.org/2021/01/16/957234700/january-6-attack-on-the-capitol-the-aftermath\" :)\n",
    "\"\"\"\n",
    "class format_output(dspy.Signature):\n",
    "    \"\"\"Given a string of articles, give me the title and link of each article\"\"\"\n",
    "    text = dspy.InputField()\n",
    "    formatted = dspy.OutputField(desc=\"title of article and link to article\")\n",
    "formatted = dspy.Predict(format_output)\n",
    "answer = formatted(text=text)\n",
    "answer = answer.toDict()['formatted']\n",
    "lines = answer.split('\\n')\n",
    "\n",
    "\n",
    "# class classify_party(dspy.Signature):\n",
    "#     \"\"\"Given tweet text, classify the political party of the author\"\"\"\n",
    "#     text = dspy.InputField()\n",
    "#     party = dspy.OutputField(desc=\"Right, Left, or Center\")\n",
    "# party = dspy.Predict(classify_party)\n",
    "# answer = party(text=\"January 6th was a dark day for America. We must never forget the insurrection.\")\n",
    "# answer.toDict()['party']\n",
    "\n"
   ]
  },
  {
   "cell_type": "code",
   "execution_count": 192,
   "metadata": {},
   "outputs": [
    {
     "data": {
      "text/plain": [
       "{'title': \"Donald Trump's Middle Eastern Improvements\",\n",
       " 'link': 'https://www.cnn.com/2021/01/15/politics/trump-middle-east-policy'}"
      ]
     },
     "execution_count": 192,
     "metadata": {},
     "output_type": "execute_result"
    }
   ],
   "source": [
    "def get_title_link(input_text):\n",
    "    class get_title(dspy.Signature):\n",
    "        \"\"\"Given a string with a title in it, give me just the title as a string\"\"\"\n",
    "        text = dspy.InputField()\n",
    "        title = dspy.OutputField(desc=\"title of article\")\n",
    "    title = dspy.Predict(get_title)\n",
    "    title_out = title(text=input_text).toDict()['title']\n",
    "\n",
    "    class get_link(dspy.Signature):\n",
    "        \"\"\"Given a string with a link in it, give me just the link as a string\"\"\"\n",
    "        text = dspy.InputField()\n",
    "        link = dspy.OutputField(desc=\"link to article\")\n",
    "    link = dspy.Predict(get_link)\n",
    "    link_out = link(text=input_text).toDict()['link']\n",
    "\n",
    "    return {\"title\": title_out, \"link\": link_out}\n",
    "\n",
    "get_title_link(lines[0])"
   ]
  },
  {
   "cell_type": "code",
   "execution_count": null,
   "metadata": {},
   "outputs": [],
   "source": []
  }
 ],
 "metadata": {
  "kernelspec": {
   "display_name": "spc-hack",
   "language": "python",
   "name": "python3"
  },
  "language_info": {
   "codemirror_mode": {
    "name": "ipython",
    "version": 3
   },
   "file_extension": ".py",
   "mimetype": "text/x-python",
   "name": "python",
   "nbconvert_exporter": "python",
   "pygments_lexer": "ipython3",
   "version": "3.11.8"
  }
 },
 "nbformat": 4,
 "nbformat_minor": 2
}
