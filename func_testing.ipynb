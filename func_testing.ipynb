{
 "cells": [
  {
   "cell_type": "code",
   "execution_count": 1,
   "metadata": {},
   "outputs": [],
   "source": [
    "import requests"
   ]
  },
  {
   "cell_type": "code",
   "execution_count": 12,
   "metadata": {},
   "outputs": [
    {
     "name": "stdout",
     "output_type": "stream",
     "text": [
      "{'reply1': 'Existential crisis, huh?', 'reply2': \"Life's big questions!\", 'reply3': 'To learn and grow.'}\n"
     ]
    }
   ],
   "source": [
    "def test_question_replies(text):    \n",
    "    # The URL you want to make a GET request to\n",
    "    url = 'https://spc-openai-hackathon-backend.onrender.com'\n",
    "    endpoint = '/question_replies'\n",
    "    full_url = url + endpoint\n",
    "\n",
    "    # Assuming you have some variables to pass as query parameters\n",
    "    query_params = {\n",
    "        'text': text,\n",
    "    }\n",
    "\n",
    "    # If you need to add headers\n",
    "    headers = {\n",
    "        'Accept': 'application/json'\n",
    "    }\n",
    "\n",
    "    # Making the GET request with query parameters and headers\n",
    "    response = requests.get(full_url, params=query_params, headers=headers)\n",
    "\n",
    "    # Checking if the request was successful\n",
    "    if response.status_code == 200:\n",
    "        # Processing the response\n",
    "        data = response.json()\n",
    "        print(data)\n",
    "        return data\n",
    "    else:\n",
    "        print('Request failed with status code', response.status_code)\n",
    "        return None"
   ]
  },
  {
   "cell_type": "code",
   "execution_count": 28,
   "metadata": {},
   "outputs": [],
   "source": [
    "def image_filter(image_url, new_filter):    \n",
    "    # The URL you want to make a GET request to\n",
    "    url = 'https://spc-openai-hackathon-backend.onrender.com'\n",
    "    endpoint = '/filter_image'\n",
    "    full_url = url + endpoint\n",
    "\n",
    "    # Assuming you have some variables to pass as query parameters\n",
    "    query_params = {\n",
    "        'image_url': image_url,\n",
    "        'new_filter': new_filter\n",
    "    }\n",
    "\n",
    "    # If you need to add headers\n",
    "    headers = {\n",
    "        'Accept': 'application/json'\n",
    "    }\n",
    "\n",
    "    # Making the GET request with query parameters and headers\n",
    "    response = requests.get(full_url, params=query_params, headers=headers)\n",
    "\n",
    "    # Checking if the request was successful\n",
    "    if response.status_code == 200:\n",
    "        # Processing the response\n",
    "        data = response.json()\n",
    "        print(data)\n",
    "        return data\n",
    "    else:\n",
    "        return response"
   ]
  },
  {
   "cell_type": "code",
   "execution_count": 30,
   "metadata": {},
   "outputs": [],
   "source": [
    "image_url = \"https://nypost.com/wp-content/uploads/sites/2/2024/02/Juan-Soto-1.jpg?w=1024\"\n",
    "new_filter = \"In the Death Star\"\n",
    "res = image_filter(image_url, new_filter)"
   ]
  },
  {
   "cell_type": "code",
   "execution_count": 33,
   "metadata": {},
   "outputs": [],
   "source": [
    "def text_to_image(text, new_filter):    \n",
    "    # The URL you want to make a GET request to\n",
    "    url = 'https://spc-openai-hackathon-backend.onrender.com'\n",
    "    endpoint = '/text_to_image'\n",
    "    full_url = url + endpoint\n",
    "\n",
    "    # Assuming you have some variables to pass as query parameters\n",
    "    query_params = {\n",
    "        'text': text,\n",
    "        'new_filter': new_filter\n",
    "    }\n",
    "\n",
    "    # If you need to add headers\n",
    "    headers = {\n",
    "        'Accept': 'application/json'\n",
    "    }\n",
    "\n",
    "    # Making the GET request with query parameters and headers\n",
    "    response = requests.get(full_url, params=query_params, headers=headers)\n",
    "\n",
    "    # Checking if the request was successful\n",
    "    if response.status_code == 200:\n",
    "        # Processing the response\n",
    "        data = response.json()\n",
    "        print(data)\n",
    "        return data\n",
    "    else:\n",
    "        return response"
   ]
  },
  {
   "cell_type": "code",
   "execution_count": 35,
   "metadata": {},
   "outputs": [
    {
     "name": "stdout",
     "output_type": "stream",
     "text": [
      "{'url': 'https://oaidalleapiprodscus.blob.core.windows.net/private/org-GmJHIHWpURleiNtoZoMvn5zL/user-G54BCf0GIzf32UkR38JTI9gz/img-wq363GulzdS1gjx0ovHqhQJt.png?st=2024-03-02T17%3A04%3A10Z&se=2024-03-02T19%3A04%3A10Z&sp=r&sv=2021-08-06&sr=b&rscd=inline&rsct=image/png&skoid=6aaadede-4fb3-4698-a8f6-684d7786b067&sktid=a48cca56-e6da-484e-a814-9c849652bcb3&skt=2024-03-02T00%3A03%3A56Z&ske=2024-03-03T00%3A03%3A56Z&sks=b&skv=2021-08-06&sig=zOKmoi%2BkfvjfCFGYhp8%2BTr9/mCtNrp9liKPv9fMIAM0%3D'}\n"
     ]
    }
   ],
   "source": [
    "text = \"Why did the chicken cross the road?\"\n",
    "new_filter = \"In the Death Star\"\n",
    "res = text_to_image(text, new_filter)"
   ]
  },
  {
   "cell_type": "code",
   "execution_count": 36,
   "metadata": {},
   "outputs": [],
   "source": [
    "def text_to_coords(text):    \n",
    "    # The URL you want to make a GET request to\n",
    "    url = 'https://spc-openai-hackathon-backend.onrender.com'\n",
    "    endpoint = '/text_to_coords'\n",
    "    full_url = url + endpoint\n",
    "\n",
    "    # Assuming you have some variables to pass as query parameters\n",
    "    query_params = {\n",
    "        'text': text,\n",
    "    }\n",
    "\n",
    "    # If you need to add headers\n",
    "    headers = {\n",
    "        'Accept': 'application/json'\n",
    "    }\n",
    "\n",
    "    # Making the GET request with query parameters and headers\n",
    "    response = requests.get(full_url, params=query_params, headers=headers)\n",
    "\n",
    "    # Checking if the request was successful\n",
    "    if response.status_code == 200:\n",
    "        # Processing the response\n",
    "        data = response.json()\n",
    "        print(data)\n",
    "        return data\n",
    "    else:\n",
    "        return response"
   ]
  },
  {
   "cell_type": "code",
   "execution_count": 37,
   "metadata": {},
   "outputs": [
    {
     "name": "stdout",
     "output_type": "stream",
     "text": [
      "{'latitude': 2.3483915, 'longitude': 48.8534951}\n"
     ]
    },
    {
     "data": {
      "text/plain": [
       "{'latitude': 2.3483915, 'longitude': 48.8534951}"
      ]
     },
     "execution_count": 37,
     "metadata": {},
     "output_type": "execute_result"
    }
   ],
   "source": [
    "text_to_coords(\"Gosh the capital of France is so beautiful!\")"
   ]
  },
  {
   "cell_type": "code",
   "execution_count": 39,
   "metadata": {},
   "outputs": [],
   "source": [
    "def text_to_weather(text):    \n",
    "    # The URL you want to make a GET request to\n",
    "    url = 'https://spc-openai-hackathon-backend.onrender.com'\n",
    "    endpoint = '/text_to_weather'\n",
    "    full_url = url + endpoint\n",
    "\n",
    "    # Assuming you have some variables to pass as query parameters\n",
    "    query_params = {\n",
    "        'text': text,\n",
    "    }\n",
    "\n",
    "    # If you need to add headers\n",
    "    headers = {\n",
    "        'Accept': 'application/json'\n",
    "    }\n",
    "\n",
    "    # Making the GET request with query parameters and headers\n",
    "    response = requests.get(full_url, params=query_params, headers=headers)\n",
    "\n",
    "    # Checking if the request was successful\n",
    "    if response.status_code == 200:\n",
    "        # Processing the response\n",
    "        data = response.json()\n",
    "        print(data)\n",
    "        return data\n",
    "    else:\n",
    "        return response"
   ]
  },
  {
   "cell_type": "code",
   "execution_count": 40,
   "metadata": {},
   "outputs": [
    {
     "name": "stdout",
     "output_type": "stream",
     "text": [
      "{'base': 'stations', 'clouds': {'all': 94}, 'cod': 200, 'coord': {'lat': 23.778, 'lon': 120.9302}, 'dt': 1709406736, 'id': 1671564, 'main': {'feels_like': 48.49, 'grnd_level': 933, 'humidity': 95, 'pressure': 1018, 'sea_level': 1018, 'temp': 48.49, 'temp_max': 52.86, 'temp_min': 48.49}, 'name': 'Nantou', 'sys': {'country': 'TW', 'id': 86663, 'sunrise': 1709417804, 'sunset': 1709460001, 'type': 2}, 'timezone': 28800, 'visibility': 10000, 'weather': [{'description': 'overcast clouds', 'icon': '04n', 'id': 804, 'main': 'Clouds'}], 'wind': {'deg': 339, 'gust': 1.88, 'speed': 0.63}}\n"
     ]
    },
    {
     "data": {
      "text/plain": [
       "{'base': 'stations',\n",
       " 'clouds': {'all': 94},\n",
       " 'cod': 200,\n",
       " 'coord': {'lat': 23.778, 'lon': 120.9302},\n",
       " 'dt': 1709406736,\n",
       " 'id': 1671564,\n",
       " 'main': {'feels_like': 48.49,\n",
       "  'grnd_level': 933,\n",
       "  'humidity': 95,\n",
       "  'pressure': 1018,\n",
       "  'sea_level': 1018,\n",
       "  'temp': 48.49,\n",
       "  'temp_max': 52.86,\n",
       "  'temp_min': 48.49},\n",
       " 'name': 'Nantou',\n",
       " 'sys': {'country': 'TW',\n",
       "  'id': 86663,\n",
       "  'sunrise': 1709417804,\n",
       "  'sunset': 1709460001,\n",
       "  'type': 2},\n",
       " 'timezone': 28800,\n",
       " 'visibility': 10000,\n",
       " 'weather': [{'description': 'overcast clouds',\n",
       "   'icon': '04n',\n",
       "   'id': 804,\n",
       "   'main': 'Clouds'}],\n",
       " 'wind': {'deg': 339, 'gust': 1.88, 'speed': 0.63}}"
      ]
     },
     "execution_count": 40,
     "metadata": {},
     "output_type": "execute_result"
    }
   ],
   "source": [
    "text_to_weather(\"It is absolutely freezing out in the capital of Taiwan!\")"
   ]
  },
  {
   "cell_type": "code",
   "execution_count": 41,
   "metadata": {},
   "outputs": [],
   "source": [
    "def text_to_finance_data(text):    \n",
    "    # The URL you want to make a GET request to\n",
    "    url = 'https://spc-openai-hackathon-backend.onrender.com'\n",
    "    endpoint = '/text_to_finance_data'\n",
    "    full_url = url + endpoint\n",
    "\n",
    "    # Assuming you have some variables to pass as query parameters\n",
    "    query_params = {\n",
    "        'text': text,\n",
    "    }\n",
    "\n",
    "    # If you need to add headers\n",
    "    headers = {\n",
    "        'Accept': 'application/json'\n",
    "    }\n",
    "\n",
    "    # Making the GET request with query parameters and headers\n",
    "    response = requests.get(full_url, params=query_params, headers=headers)\n",
    "\n",
    "    # Checking if the request was successful\n",
    "    if response.status_code == 200:\n",
    "        # Processing the response\n",
    "        data = response.json()\n",
    "        print(data)\n",
    "        return data\n",
    "    else:\n",
    "        return response"
   ]
  },
  {
   "cell_type": "code",
   "execution_count": 42,
   "metadata": {},
   "outputs": [
    {
     "name": "stdout",
     "output_type": "stream",
     "text": [
      "{'close_prices': {'2024-02-02T00:00:00Z': 185.85000610351562, '2024-02-05T00:00:00Z': 187.67999267578125, '2024-02-06T00:00:00Z': 189.3000030517578, '2024-02-07T00:00:00Z': 189.41000366210938, '2024-02-08T00:00:00Z': 188.32000732421875, '2024-02-09T00:00:00Z': 188.85000610351562, '2024-02-12T00:00:00Z': 187.14999389648438, '2024-02-13T00:00:00Z': 185.0399932861328, '2024-02-14T00:00:00Z': 184.14999389648438, '2024-02-15T00:00:00Z': 183.86000061035156, '2024-02-16T00:00:00Z': 182.30999755859375, '2024-02-20T00:00:00Z': 181.55999755859375, '2024-02-21T00:00:00Z': 182.32000732421875, '2024-02-22T00:00:00Z': 184.3699951171875, '2024-02-23T00:00:00Z': 182.52000427246094, '2024-02-26T00:00:00Z': 181.16000366210938, '2024-02-27T00:00:00Z': 182.6300048828125, '2024-02-28T00:00:00Z': 181.4199981689453, '2024-02-29T00:00:00Z': 180.75, '2024-03-01T00:00:00Z': 179.66000366210938}, 'current_price': 179.66000366210938, 'percent_today': 0.06126461068332774, 'ticker': 'AAPL'}\n"
     ]
    },
    {
     "data": {
      "text/plain": [
       "{'close_prices': {'2024-02-02T00:00:00Z': 185.85000610351562,\n",
       "  '2024-02-05T00:00:00Z': 187.67999267578125,\n",
       "  '2024-02-06T00:00:00Z': 189.3000030517578,\n",
       "  '2024-02-07T00:00:00Z': 189.41000366210938,\n",
       "  '2024-02-08T00:00:00Z': 188.32000732421875,\n",
       "  '2024-02-09T00:00:00Z': 188.85000610351562,\n",
       "  '2024-02-12T00:00:00Z': 187.14999389648438,\n",
       "  '2024-02-13T00:00:00Z': 185.0399932861328,\n",
       "  '2024-02-14T00:00:00Z': 184.14999389648438,\n",
       "  '2024-02-15T00:00:00Z': 183.86000061035156,\n",
       "  '2024-02-16T00:00:00Z': 182.30999755859375,\n",
       "  '2024-02-20T00:00:00Z': 181.55999755859375,\n",
       "  '2024-02-21T00:00:00Z': 182.32000732421875,\n",
       "  '2024-02-22T00:00:00Z': 184.3699951171875,\n",
       "  '2024-02-23T00:00:00Z': 182.52000427246094,\n",
       "  '2024-02-26T00:00:00Z': 181.16000366210938,\n",
       "  '2024-02-27T00:00:00Z': 182.6300048828125,\n",
       "  '2024-02-28T00:00:00Z': 181.4199981689453,\n",
       "  '2024-02-29T00:00:00Z': 180.75,\n",
       "  '2024-03-01T00:00:00Z': 179.66000366210938},\n",
       " 'current_price': 179.66000366210938,\n",
       " 'percent_today': 0.06126461068332774,\n",
       " 'ticker': 'AAPL'}"
      ]
     },
     "execution_count": 42,
     "metadata": {},
     "output_type": "execute_result"
    }
   ],
   "source": [
    "text_to_finance_data(\"I want to know the stock price of Apple\")"
   ]
  },
  {
   "cell_type": "code",
   "execution_count": null,
   "metadata": {},
   "outputs": [],
   "source": []
  }
 ],
 "metadata": {
  "kernelspec": {
   "display_name": "spcopenai",
   "language": "python",
   "name": "python3"
  },
  "language_info": {
   "codemirror_mode": {
    "name": "ipython",
    "version": 3
   },
   "file_extension": ".py",
   "mimetype": "text/x-python",
   "name": "python",
   "nbconvert_exporter": "python",
   "pygments_lexer": "ipython3",
   "version": "3.12.2"
  }
 },
 "nbformat": 4,
 "nbformat_minor": 2
}
