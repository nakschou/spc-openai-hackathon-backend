{
 "cells": [
  {
   "cell_type": "code",
   "execution_count": 7,
   "metadata": {},
   "outputs": [],
   "source": [
    "import requests"
   ]
  },
  {
   "cell_type": "code",
   "execution_count": 12,
   "metadata": {},
   "outputs": [
    {
     "name": "stdout",
     "output_type": "stream",
     "text": [
      "{'reply1': 'Existential crisis, huh?', 'reply2': \"Life's big questions!\", 'reply3': 'To learn and grow.'}\n"
     ]
    }
   ],
   "source": [
    "def test_question_replies(text):    \n",
    "    # The URL you want to make a GET request to\n",
    "    url = 'https://spc-openai-hackathon-backend.onrender.com'\n",
    "    endpoint = '/question_replies'\n",
    "    full_url = url + endpoint\n",
    "\n",
    "    # Assuming you have some variables to pass as query parameters\n",
    "    query_params = {\n",
    "        'text': text,\n",
    "    }\n",
    "\n",
    "    # If you need to add headers\n",
    "    headers = {\n",
    "        'Accept': 'application/json'\n",
    "    }\n",
    "\n",
    "    # Making the GET request with query parameters and headers\n",
    "    response = requests.get(full_url, params=query_params, headers=headers)\n",
    "\n",
    "    # Checking if the request was successful\n",
    "    if response.status_code == 200:\n",
    "        # Processing the response\n",
    "        data = response.json()\n",
    "        print(data)\n",
    "        return data\n",
    "    else:\n",
    "        print('Request failed with status code', response.status_code)\n",
    "        return None"
   ]
  },
  {
   "cell_type": "code",
   "execution_count": 13,
   "metadata": {},
   "outputs": [],
   "source": [
    "def image_filter(image_url, new_filter):    \n",
    "    # The URL you want to make a GET request to\n",
    "    url = 'https://spc-openai-hackathon-backend.onrender.com'\n",
    "    endpoint = '/filter_image'\n",
    "    full_url = url + endpoint\n",
    "\n",
    "    # Assuming you have some variables to pass as query parameters\n",
    "    query_params = {\n",
    "        'image_url': image_url,\n",
    "        'new_filter': new_filter\n",
    "    }\n",
    "\n",
    "    # If you need to add headers\n",
    "    headers = {\n",
    "        'Accept': 'application/json'\n",
    "    }\n",
    "\n",
    "    # Making the GET request with query parameters and headers\n",
    "    response = requests.get(full_url, params=query_params, headers=headers)\n",
    "\n",
    "    # Checking if the request was successful\n",
    "    if response.status_code == 200:\n",
    "        # Processing the response\n",
    "        data = response.json()\n",
    "        print(data)\n",
    "        return data\n",
    "    else:\n",
    "        return response"
   ]
  },
  {
   "cell_type": "code",
   "execution_count": 14,
   "metadata": {},
   "outputs": [],
   "source": [
    "image_url = \"https://nypost.com/wp-content/uploads/sites/2/2024/02/Juan-Soto-1.jpg?w=1024\"\n",
    "new_filter = \"In the Death Star\"\n",
    "res = image_filter(image_url, new_filter)"
   ]
  },
  {
   "cell_type": "code",
   "execution_count": 16,
   "metadata": {},
   "outputs": [
    {
     "data": {
      "text/plain": [
       "'{\"error\": \"Error in fetching image from cache\"}'"
      ]
     },
     "execution_count": 16,
     "metadata": {},
     "output_type": "execute_result"
    }
   ],
   "source": [
    "res.text"
   ]
  },
  {
   "cell_type": "code",
   "execution_count": 33,
   "metadata": {},
   "outputs": [],
   "source": [
    "def text_to_image(text, new_filter):    \n",
    "    # The URL you want to make a GET request to\n",
    "    url = 'https://spc-openai-hackathon-backend.onrender.com'\n",
    "    endpoint = '/text_to_image'\n",
    "    full_url = url + endpoint\n",
    "\n",
    "    # Assuming you have some variables to pass as query parameters\n",
    "    query_params = {\n",
    "        'text': text,\n",
    "        'new_filter': new_filter\n",
    "    }\n",
    "\n",
    "    # If you need to add headers\n",
    "    headers = {\n",
    "        'Accept': 'application/json'\n",
    "    }\n",
    "\n",
    "    # Making the GET request with query parameters and headers\n",
    "    response = requests.get(full_url, params=query_params, headers=headers)\n",
    "\n",
    "    # Checking if the request was successful\n",
    "    if response.status_code == 200:\n",
    "        # Processing the response\n",
    "        data = response.json()\n",
    "        print(data)\n",
    "        return data\n",
    "    else:\n",
    "        return response"
   ]
  },
  {
   "cell_type": "code",
   "execution_count": 35,
   "metadata": {},
   "outputs": [
    {
     "name": "stdout",
     "output_type": "stream",
     "text": [
      "{'url': 'https://oaidalleapiprodscus.blob.core.windows.net/private/org-GmJHIHWpURleiNtoZoMvn5zL/user-G54BCf0GIzf32UkR38JTI9gz/img-wq363GulzdS1gjx0ovHqhQJt.png?st=2024-03-02T17%3A04%3A10Z&se=2024-03-02T19%3A04%3A10Z&sp=r&sv=2021-08-06&sr=b&rscd=inline&rsct=image/png&skoid=6aaadede-4fb3-4698-a8f6-684d7786b067&sktid=a48cca56-e6da-484e-a814-9c849652bcb3&skt=2024-03-02T00%3A03%3A56Z&ske=2024-03-03T00%3A03%3A56Z&sks=b&skv=2021-08-06&sig=zOKmoi%2BkfvjfCFGYhp8%2BTr9/mCtNrp9liKPv9fMIAM0%3D'}\n"
     ]
    }
   ],
   "source": [
    "text = \"Why did the chicken cross the road?\"\n",
    "new_filter = \"In the Death Star\"\n",
    "res = text_to_image(text, new_filter)"
   ]
  },
  {
   "cell_type": "code",
   "execution_count": 36,
   "metadata": {},
   "outputs": [],
   "source": [
    "def text_to_coords(text):    \n",
    "    # The URL you want to make a GET request to\n",
    "    url = 'https://spc-openai-hackathon-backend.onrender.com'\n",
    "    endpoint = '/text_to_coords'\n",
    "    full_url = url + endpoint\n",
    "\n",
    "    # Assuming you have some variables to pass as query parameters\n",
    "    query_params = {\n",
    "        'text': text,\n",
    "    }\n",
    "\n",
    "    # If you need to add headers\n",
    "    headers = {\n",
    "        'Accept': 'application/json'\n",
    "    }\n",
    "\n",
    "    # Making the GET request with query parameters and headers\n",
    "    response = requests.get(full_url, params=query_params, headers=headers)\n",
    "\n",
    "    # Checking if the request was successful\n",
    "    if response.status_code == 200:\n",
    "        # Processing the response\n",
    "        data = response.json()\n",
    "        print(data)\n",
    "        return data\n",
    "    else:\n",
    "        return response"
   ]
  },
  {
   "cell_type": "code",
   "execution_count": 37,
   "metadata": {},
   "outputs": [
    {
     "name": "stdout",
     "output_type": "stream",
     "text": [
      "{'latitude': 2.3483915, 'longitude': 48.8534951}\n"
     ]
    },
    {
     "data": {
      "text/plain": [
       "{'latitude': 2.3483915, 'longitude': 48.8534951}"
      ]
     },
     "execution_count": 37,
     "metadata": {},
     "output_type": "execute_result"
    }
   ],
   "source": [
    "text_to_coords(\"Gosh the capital of France is so beautiful!\")"
   ]
  },
  {
   "cell_type": "code",
   "execution_count": 6,
   "metadata": {},
   "outputs": [],
   "source": [
    "def text_to_weather(text):    \n",
    "    # The URL you want to make a GET request to\n",
    "    url = 'https://spc-openai-hackathon-backend.onrender.com'\n",
    "    endpoint = '/text_to_weather'\n",
    "    full_url = url + endpoint\n",
    "\n",
    "    # Assuming you have some variables to pass as query parameters\n",
    "    query_params = {\n",
    "        'text': text,\n",
    "    }\n",
    "\n",
    "    # If you need to add headers\n",
    "    headers = {\n",
    "        'Accept': 'application/json'\n",
    "    }\n",
    "\n",
    "    # Making the GET request with query parameters and headers\n",
    "    response = requests.get(full_url, params=query_params, headers=headers)\n",
    "\n",
    "    # Checking if the request was successful\n",
    "    if response.status_code == 200:\n",
    "        # Processing the response\n",
    "        data = response.json()\n",
    "        print(data)\n",
    "        return data\n",
    "    else:\n",
    "        return response"
   ]
  },
  {
   "cell_type": "code",
   "execution_count": 7,
   "metadata": {},
   "outputs": [
    {
     "name": "stdout",
     "output_type": "stream",
     "text": [
      "{'description': 'few clouds', 'feels_like': 55, 'humidity': 67, 'icon': '02d', 'location': 'Nantou', 'temperature': 56.5, 'wind_direction': 309, 'wind_speed': 7.47}\n"
     ]
    },
    {
     "data": {
      "text/plain": [
       "{'description': 'few clouds',\n",
       " 'feels_like': 55,\n",
       " 'humidity': 67,\n",
       " 'icon': '02d',\n",
       " 'location': 'Nantou',\n",
       " 'temperature': 56.5,\n",
       " 'wind_direction': 309,\n",
       " 'wind_speed': 7.47}"
      ]
     },
     "execution_count": 7,
     "metadata": {},
     "output_type": "execute_result"
    }
   ],
   "source": [
    "text_to_weather(\"It is absolutely freezing out in the capital of Taiwan!\")"
   ]
  },
  {
   "cell_type": "code",
   "execution_count": 41,
   "metadata": {},
   "outputs": [],
   "source": [
    "def text_to_finance_data(text):    \n",
    "    # The URL you want to make a GET request to\n",
    "    url = 'https://spc-openai-hackathon-backend.onrender.com'\n",
    "    endpoint = '/text_to_finance_data'\n",
    "    full_url = url + endpoint\n",
    "\n",
    "    # Assuming you have some variables to pass as query parameters\n",
    "    query_params = {\n",
    "        'text': text,\n",
    "    }\n",
    "\n",
    "    # If you need to add headers\n",
    "    headers = {\n",
    "        'Accept': 'application/json'\n",
    "    }\n",
    "\n",
    "    # Making the GET request with query parameters and headers\n",
    "    response = requests.get(full_url, params=query_params, headers=headers)\n",
    "\n",
    "    # Checking if the request was successful\n",
    "    if response.status_code == 200:\n",
    "        # Processing the response\n",
    "        data = response.json()\n",
    "        print(data)\n",
    "        return data\n",
    "    else:\n",
    "        return response"
   ]
  },
  {
   "cell_type": "code",
   "execution_count": 42,
   "metadata": {},
   "outputs": [
    {
     "name": "stdout",
     "output_type": "stream",
     "text": [
      "{'close_prices': {'2024-02-02T00:00:00Z': 185.85000610351562, '2024-02-05T00:00:00Z': 187.67999267578125, '2024-02-06T00:00:00Z': 189.3000030517578, '2024-02-07T00:00:00Z': 189.41000366210938, '2024-02-08T00:00:00Z': 188.32000732421875, '2024-02-09T00:00:00Z': 188.85000610351562, '2024-02-12T00:00:00Z': 187.14999389648438, '2024-02-13T00:00:00Z': 185.0399932861328, '2024-02-14T00:00:00Z': 184.14999389648438, '2024-02-15T00:00:00Z': 183.86000061035156, '2024-02-16T00:00:00Z': 182.30999755859375, '2024-02-20T00:00:00Z': 181.55999755859375, '2024-02-21T00:00:00Z': 182.32000732421875, '2024-02-22T00:00:00Z': 184.3699951171875, '2024-02-23T00:00:00Z': 182.52000427246094, '2024-02-26T00:00:00Z': 181.16000366210938, '2024-02-27T00:00:00Z': 182.6300048828125, '2024-02-28T00:00:00Z': 181.4199981689453, '2024-02-29T00:00:00Z': 180.75, '2024-03-01T00:00:00Z': 179.66000366210938}, 'current_price': 179.66000366210938, 'percent_today': 0.06126461068332774, 'ticker': 'AAPL'}\n"
     ]
    },
    {
     "data": {
      "text/plain": [
       "{'close_prices': {'2024-02-02T00:00:00Z': 185.85000610351562,\n",
       "  '2024-02-05T00:00:00Z': 187.67999267578125,\n",
       "  '2024-02-06T00:00:00Z': 189.3000030517578,\n",
       "  '2024-02-07T00:00:00Z': 189.41000366210938,\n",
       "  '2024-02-08T00:00:00Z': 188.32000732421875,\n",
       "  '2024-02-09T00:00:00Z': 188.85000610351562,\n",
       "  '2024-02-12T00:00:00Z': 187.14999389648438,\n",
       "  '2024-02-13T00:00:00Z': 185.0399932861328,\n",
       "  '2024-02-14T00:00:00Z': 184.14999389648438,\n",
       "  '2024-02-15T00:00:00Z': 183.86000061035156,\n",
       "  '2024-02-16T00:00:00Z': 182.30999755859375,\n",
       "  '2024-02-20T00:00:00Z': 181.55999755859375,\n",
       "  '2024-02-21T00:00:00Z': 182.32000732421875,\n",
       "  '2024-02-22T00:00:00Z': 184.3699951171875,\n",
       "  '2024-02-23T00:00:00Z': 182.52000427246094,\n",
       "  '2024-02-26T00:00:00Z': 181.16000366210938,\n",
       "  '2024-02-27T00:00:00Z': 182.6300048828125,\n",
       "  '2024-02-28T00:00:00Z': 181.4199981689453,\n",
       "  '2024-02-29T00:00:00Z': 180.75,\n",
       "  '2024-03-01T00:00:00Z': 179.66000366210938},\n",
       " 'current_price': 179.66000366210938,\n",
       " 'percent_today': 0.06126461068332774,\n",
       " 'ticker': 'AAPL'}"
      ]
     },
     "execution_count": 42,
     "metadata": {},
     "output_type": "execute_result"
    }
   ],
   "source": [
    "text_to_finance_data(\"I want to know the stock price of Apple\")"
   ]
  },
  {
   "cell_type": "code",
   "execution_count": 4,
   "metadata": {},
   "outputs": [],
   "source": [
    "def text_to_politics(text):    \n",
    "    # The URL you want to make a GET request to\n",
    "    url = 'https://spc-openai-hackathon-backend.onrender.com'\n",
    "    endpoint = '/text_to_politics'\n",
    "    full_url = url + endpoint\n",
    "\n",
    "    # Assuming you have some variables to pass as query parameters\n",
    "    query_params = {\n",
    "        'text': text,\n",
    "    }\n",
    "\n",
    "    # If you need to add headers\n",
    "    headers = {\n",
    "        'Accept': 'application/json'\n",
    "    }\n",
    "\n",
    "    # Making the GET request with query parameters and headers\n",
    "    response = requests.get(full_url, params=query_params, headers=headers)\n",
    "\n",
    "    # Checking if the request was successful\n",
    "    if response.status_code == 200:\n",
    "        # Processing the response\n",
    "        data = response.json()\n",
    "        print(data)\n",
    "        return data\n",
    "    else:\n",
    "        return response"
   ]
  },
  {
   "cell_type": "code",
   "execution_count": 5,
   "metadata": {},
   "outputs": [
    {
     "name": "stdout",
     "output_type": "stream",
     "text": [
      "{'articles': [{'link': 'https://www.cnn.com/2021/10/15/politics/donald-trump-january-6th-michelle-vernon/index.html', 'title': \"Ex-aide reveals Trump's response to January 6th attack\"}, {'link': 'https://www.politico.com/news/2021/10/13/january-6-attack-house-hearing-465221', 'title': 'Witnesses testify at House hearing on Capitol attack'}, {'link': 'https://www.foxnews.com/politics/january-6-capitol-riot-tammy-stinson-sentenced-to-40', 'title': 'Sentenced to 40 years: Leader of January 6th riot gets maximum prison'}], 'party': 'Right'}\n"
     ]
    },
    {
     "data": {
      "text/plain": [
       "{'articles': [{'link': 'https://www.cnn.com/2021/10/15/politics/donald-trump-january-6th-michelle-vernon/index.html',\n",
       "   'title': \"Ex-aide reveals Trump's response to January 6th attack\"},\n",
       "  {'link': 'https://www.politico.com/news/2021/10/13/january-6-attack-house-hearing-465221',\n",
       "   'title': 'Witnesses testify at House hearing on Capitol attack'},\n",
       "  {'link': 'https://www.foxnews.com/politics/january-6-capitol-riot-tammy-stinson-sentenced-to-40',\n",
       "   'title': 'Sentenced to 40 years: Leader of January 6th riot gets maximum prison'}],\n",
       " 'party': 'Right'}"
      ]
     },
     "execution_count": 5,
     "metadata": {},
     "output_type": "execute_result"
    }
   ],
   "source": [
    "res = text_to_politics(\"The January 6th insurrection was one of the greatest days in American history!\")\n",
    "res"
   ]
  },
  {
   "cell_type": "code",
   "execution_count": 1,
   "metadata": {},
   "outputs": [],
   "source": [
    "import redis\n",
    "r = redis.Redis(\"red-cnhtv8021fec73co5tu0:8wz2jNOjtynOb2JvVSAQf0lAtZnDFLGZ@oregon-redis.render.com:6379\")"
   ]
  },
  {
   "cell_type": "code",
   "execution_count": 12,
   "metadata": {},
   "outputs": [
    {
     "ename": "UnicodeError",
     "evalue": "label empty or too long",
     "output_type": "error",
     "traceback": [
      "\u001b[1;31m---------------------------------------------------------------------------\u001b[0m",
      "\u001b[1;31mUnicodeError\u001b[0m                              Traceback (most recent call last)",
      "Cell \u001b[1;32mIn[12], line 1\u001b[0m\n\u001b[1;32m----> 1\u001b[0m \u001b[43mr\u001b[49m\u001b[38;5;241;43m.\u001b[39;49m\u001b[43mset\u001b[49m\u001b[43m(\u001b[49m\u001b[38;5;124;43m'\u001b[39;49m\u001b[38;5;124;43mfoo\u001b[39;49m\u001b[38;5;124;43m'\u001b[39;49m\u001b[43m,\u001b[49m\u001b[43m \u001b[49m\u001b[38;5;124;43m'\u001b[39;49m\u001b[38;5;124;43mbar\u001b[39;49m\u001b[38;5;124;43m'\u001b[39;49m\u001b[43m)\u001b[49m\n",
      "File \u001b[1;32mc:\\Users\\Home\\anaconda3\\envs\\spcopenai\\Lib\\site-packages\\redis\\commands\\core.py:2342\u001b[0m, in \u001b[0;36mBasicKeyCommands.set\u001b[1;34m(self, name, value, ex, px, nx, xx, keepttl, get, exat, pxat)\u001b[0m\n\u001b[0;32m   2339\u001b[0m     pieces\u001b[38;5;241m.\u001b[39mappend(\u001b[38;5;124m\"\u001b[39m\u001b[38;5;124mGET\u001b[39m\u001b[38;5;124m\"\u001b[39m)\n\u001b[0;32m   2340\u001b[0m     options[\u001b[38;5;124m\"\u001b[39m\u001b[38;5;124mget\u001b[39m\u001b[38;5;124m\"\u001b[39m] \u001b[38;5;241m=\u001b[39m \u001b[38;5;28;01mTrue\u001b[39;00m\n\u001b[1;32m-> 2342\u001b[0m \u001b[38;5;28;01mreturn\u001b[39;00m \u001b[38;5;28;43mself\u001b[39;49m\u001b[38;5;241;43m.\u001b[39;49m\u001b[43mexecute_command\u001b[49m\u001b[43m(\u001b[49m\u001b[38;5;124;43m\"\u001b[39;49m\u001b[38;5;124;43mSET\u001b[39;49m\u001b[38;5;124;43m\"\u001b[39;49m\u001b[43m,\u001b[49m\u001b[43m \u001b[49m\u001b[38;5;241;43m*\u001b[39;49m\u001b[43mpieces\u001b[49m\u001b[43m,\u001b[49m\u001b[43m \u001b[49m\u001b[38;5;241;43m*\u001b[39;49m\u001b[38;5;241;43m*\u001b[39;49m\u001b[43moptions\u001b[49m\u001b[43m)\u001b[49m\n",
      "File \u001b[1;32mc:\\Users\\Home\\anaconda3\\envs\\spcopenai\\Lib\\site-packages\\redis\\client.py:540\u001b[0m, in \u001b[0;36mRedis.execute_command\u001b[1;34m(self, *args, **options)\u001b[0m\n\u001b[0;32m    538\u001b[0m pool \u001b[38;5;241m=\u001b[39m \u001b[38;5;28mself\u001b[39m\u001b[38;5;241m.\u001b[39mconnection_pool\n\u001b[0;32m    539\u001b[0m command_name \u001b[38;5;241m=\u001b[39m args[\u001b[38;5;241m0\u001b[39m]\n\u001b[1;32m--> 540\u001b[0m conn \u001b[38;5;241m=\u001b[39m \u001b[38;5;28mself\u001b[39m\u001b[38;5;241m.\u001b[39mconnection \u001b[38;5;129;01mor\u001b[39;00m \u001b[43mpool\u001b[49m\u001b[38;5;241;43m.\u001b[39;49m\u001b[43mget_connection\u001b[49m\u001b[43m(\u001b[49m\u001b[43mcommand_name\u001b[49m\u001b[43m,\u001b[49m\u001b[43m \u001b[49m\u001b[38;5;241;43m*\u001b[39;49m\u001b[38;5;241;43m*\u001b[39;49m\u001b[43moptions\u001b[49m\u001b[43m)\u001b[49m\n\u001b[0;32m    542\u001b[0m \u001b[38;5;28;01mtry\u001b[39;00m:\n\u001b[0;32m    543\u001b[0m     \u001b[38;5;28;01mreturn\u001b[39;00m conn\u001b[38;5;241m.\u001b[39mretry\u001b[38;5;241m.\u001b[39mcall_with_retry(\n\u001b[0;32m    544\u001b[0m         \u001b[38;5;28;01mlambda\u001b[39;00m: \u001b[38;5;28mself\u001b[39m\u001b[38;5;241m.\u001b[39m_send_command_parse_response(\n\u001b[0;32m    545\u001b[0m             conn, command_name, \u001b[38;5;241m*\u001b[39margs, \u001b[38;5;241m*\u001b[39m\u001b[38;5;241m*\u001b[39moptions\n\u001b[0;32m    546\u001b[0m         ),\n\u001b[0;32m    547\u001b[0m         \u001b[38;5;28;01mlambda\u001b[39;00m error: \u001b[38;5;28mself\u001b[39m\u001b[38;5;241m.\u001b[39m_disconnect_raise(conn, error),\n\u001b[0;32m    548\u001b[0m     )\n",
      "File \u001b[1;32mc:\\Users\\Home\\anaconda3\\envs\\spcopenai\\Lib\\site-packages\\redis\\connection.py:1104\u001b[0m, in \u001b[0;36mConnectionPool.get_connection\u001b[1;34m(self, command_name, *keys, **options)\u001b[0m\n\u001b[0;32m   1100\u001b[0m     \u001b[38;5;28mself\u001b[39m\u001b[38;5;241m.\u001b[39m_in_use_connections\u001b[38;5;241m.\u001b[39madd(connection)\n\u001b[0;32m   1102\u001b[0m \u001b[38;5;28;01mtry\u001b[39;00m:\n\u001b[0;32m   1103\u001b[0m     \u001b[38;5;66;03m# ensure this connection is connected to Redis\u001b[39;00m\n\u001b[1;32m-> 1104\u001b[0m     \u001b[43mconnection\u001b[49m\u001b[38;5;241;43m.\u001b[39;49m\u001b[43mconnect\u001b[49m\u001b[43m(\u001b[49m\u001b[43m)\u001b[49m\n\u001b[0;32m   1105\u001b[0m     \u001b[38;5;66;03m# connections that the pool provides should be ready to send\u001b[39;00m\n\u001b[0;32m   1106\u001b[0m     \u001b[38;5;66;03m# a command. if not, the connection was either returned to the\u001b[39;00m\n\u001b[0;32m   1107\u001b[0m     \u001b[38;5;66;03m# pool before all data has been read or the socket has been\u001b[39;00m\n\u001b[0;32m   1108\u001b[0m     \u001b[38;5;66;03m# closed. either way, reconnect and verify everything is good.\u001b[39;00m\n\u001b[0;32m   1109\u001b[0m     \u001b[38;5;28;01mtry\u001b[39;00m:\n",
      "File \u001b[1;32mc:\\Users\\Home\\anaconda3\\envs\\spcopenai\\Lib\\site-packages\\redis\\connection.py:276\u001b[0m, in \u001b[0;36mAbstractConnection.connect\u001b[1;34m(self)\u001b[0m\n\u001b[0;32m    274\u001b[0m     \u001b[38;5;28;01mreturn\u001b[39;00m\n\u001b[0;32m    275\u001b[0m \u001b[38;5;28;01mtry\u001b[39;00m:\n\u001b[1;32m--> 276\u001b[0m     sock \u001b[38;5;241m=\u001b[39m \u001b[38;5;28;43mself\u001b[39;49m\u001b[38;5;241;43m.\u001b[39;49m\u001b[43mretry\u001b[49m\u001b[38;5;241;43m.\u001b[39;49m\u001b[43mcall_with_retry\u001b[49m\u001b[43m(\u001b[49m\n\u001b[0;32m    277\u001b[0m \u001b[43m        \u001b[49m\u001b[38;5;28;43;01mlambda\u001b[39;49;00m\u001b[43m:\u001b[49m\u001b[43m \u001b[49m\u001b[38;5;28;43mself\u001b[39;49m\u001b[38;5;241;43m.\u001b[39;49m\u001b[43m_connect\u001b[49m\u001b[43m(\u001b[49m\u001b[43m)\u001b[49m\u001b[43m,\u001b[49m\u001b[43m \u001b[49m\u001b[38;5;28;43;01mlambda\u001b[39;49;00m\u001b[43m \u001b[49m\u001b[43merror\u001b[49m\u001b[43m:\u001b[49m\u001b[43m \u001b[49m\u001b[38;5;28;43mself\u001b[39;49m\u001b[38;5;241;43m.\u001b[39;49m\u001b[43mdisconnect\u001b[49m\u001b[43m(\u001b[49m\u001b[43merror\u001b[49m\u001b[43m)\u001b[49m\n\u001b[0;32m    278\u001b[0m \u001b[43m    \u001b[49m\u001b[43m)\u001b[49m\n\u001b[0;32m    279\u001b[0m \u001b[38;5;28;01mexcept\u001b[39;00m socket\u001b[38;5;241m.\u001b[39mtimeout:\n\u001b[0;32m    280\u001b[0m     \u001b[38;5;28;01mraise\u001b[39;00m \u001b[38;5;167;01mTimeoutError\u001b[39;00m(\u001b[38;5;124m\"\u001b[39m\u001b[38;5;124mTimeout connecting to server\u001b[39m\u001b[38;5;124m\"\u001b[39m)\n",
      "File \u001b[1;32mc:\\Users\\Home\\anaconda3\\envs\\spcopenai\\Lib\\site-packages\\redis\\retry.py:46\u001b[0m, in \u001b[0;36mRetry.call_with_retry\u001b[1;34m(self, do, fail)\u001b[0m\n\u001b[0;32m     44\u001b[0m \u001b[38;5;28;01mwhile\u001b[39;00m \u001b[38;5;28;01mTrue\u001b[39;00m:\n\u001b[0;32m     45\u001b[0m     \u001b[38;5;28;01mtry\u001b[39;00m:\n\u001b[1;32m---> 46\u001b[0m         \u001b[38;5;28;01mreturn\u001b[39;00m \u001b[43mdo\u001b[49m\u001b[43m(\u001b[49m\u001b[43m)\u001b[49m\n\u001b[0;32m     47\u001b[0m     \u001b[38;5;28;01mexcept\u001b[39;00m \u001b[38;5;28mself\u001b[39m\u001b[38;5;241m.\u001b[39m_supported_errors \u001b[38;5;28;01mas\u001b[39;00m error:\n\u001b[0;32m     48\u001b[0m         failures \u001b[38;5;241m+\u001b[39m\u001b[38;5;241m=\u001b[39m \u001b[38;5;241m1\u001b[39m\n",
      "File \u001b[1;32mc:\\Users\\Home\\anaconda3\\envs\\spcopenai\\Lib\\site-packages\\redis\\connection.py:277\u001b[0m, in \u001b[0;36mAbstractConnection.connect.<locals>.<lambda>\u001b[1;34m()\u001b[0m\n\u001b[0;32m    274\u001b[0m     \u001b[38;5;28;01mreturn\u001b[39;00m\n\u001b[0;32m    275\u001b[0m \u001b[38;5;28;01mtry\u001b[39;00m:\n\u001b[0;32m    276\u001b[0m     sock \u001b[38;5;241m=\u001b[39m \u001b[38;5;28mself\u001b[39m\u001b[38;5;241m.\u001b[39mretry\u001b[38;5;241m.\u001b[39mcall_with_retry(\n\u001b[1;32m--> 277\u001b[0m         \u001b[38;5;28;01mlambda\u001b[39;00m: \u001b[38;5;28;43mself\u001b[39;49m\u001b[38;5;241;43m.\u001b[39;49m\u001b[43m_connect\u001b[49m\u001b[43m(\u001b[49m\u001b[43m)\u001b[49m, \u001b[38;5;28;01mlambda\u001b[39;00m error: \u001b[38;5;28mself\u001b[39m\u001b[38;5;241m.\u001b[39mdisconnect(error)\n\u001b[0;32m    278\u001b[0m     )\n\u001b[0;32m    279\u001b[0m \u001b[38;5;28;01mexcept\u001b[39;00m socket\u001b[38;5;241m.\u001b[39mtimeout:\n\u001b[0;32m    280\u001b[0m     \u001b[38;5;28;01mraise\u001b[39;00m \u001b[38;5;167;01mTimeoutError\u001b[39;00m(\u001b[38;5;124m\"\u001b[39m\u001b[38;5;124mTimeout connecting to server\u001b[39m\u001b[38;5;124m\"\u001b[39m)\n",
      "File \u001b[1;32mc:\\Users\\Home\\anaconda3\\envs\\spcopenai\\Lib\\site-packages\\redis\\connection.py:607\u001b[0m, in \u001b[0;36mConnection._connect\u001b[1;34m(self)\u001b[0m\n\u001b[0;32m    603\u001b[0m \u001b[38;5;66;03m# we want to mimic what socket.create_connection does to support\u001b[39;00m\n\u001b[0;32m    604\u001b[0m \u001b[38;5;66;03m# ipv4/ipv6, but we want to set options prior to calling\u001b[39;00m\n\u001b[0;32m    605\u001b[0m \u001b[38;5;66;03m# socket.connect()\u001b[39;00m\n\u001b[0;32m    606\u001b[0m err \u001b[38;5;241m=\u001b[39m \u001b[38;5;28;01mNone\u001b[39;00m\n\u001b[1;32m--> 607\u001b[0m \u001b[38;5;28;01mfor\u001b[39;00m res \u001b[38;5;129;01min\u001b[39;00m \u001b[43msocket\u001b[49m\u001b[38;5;241;43m.\u001b[39;49m\u001b[43mgetaddrinfo\u001b[49m\u001b[43m(\u001b[49m\n\u001b[0;32m    608\u001b[0m \u001b[43m    \u001b[49m\u001b[38;5;28;43mself\u001b[39;49m\u001b[38;5;241;43m.\u001b[39;49m\u001b[43mhost\u001b[49m\u001b[43m,\u001b[49m\u001b[43m \u001b[49m\u001b[38;5;28;43mself\u001b[39;49m\u001b[38;5;241;43m.\u001b[39;49m\u001b[43mport\u001b[49m\u001b[43m,\u001b[49m\u001b[43m \u001b[49m\u001b[38;5;28;43mself\u001b[39;49m\u001b[38;5;241;43m.\u001b[39;49m\u001b[43msocket_type\u001b[49m\u001b[43m,\u001b[49m\u001b[43m \u001b[49m\u001b[43msocket\u001b[49m\u001b[38;5;241;43m.\u001b[39;49m\u001b[43mSOCK_STREAM\u001b[49m\n\u001b[0;32m    609\u001b[0m \u001b[43m\u001b[49m\u001b[43m)\u001b[49m:\n\u001b[0;32m    610\u001b[0m     family, socktype, proto, canonname, socket_address \u001b[38;5;241m=\u001b[39m res\n\u001b[0;32m    611\u001b[0m     sock \u001b[38;5;241m=\u001b[39m \u001b[38;5;28;01mNone\u001b[39;00m\n",
      "File \u001b[1;32mc:\\Users\\Home\\anaconda3\\envs\\spcopenai\\Lib\\socket.py:963\u001b[0m, in \u001b[0;36mgetaddrinfo\u001b[1;34m(host, port, family, type, proto, flags)\u001b[0m\n\u001b[0;32m    960\u001b[0m \u001b[38;5;66;03m# We override this function since we want to translate the numeric family\u001b[39;00m\n\u001b[0;32m    961\u001b[0m \u001b[38;5;66;03m# and socket type values to enum constants.\u001b[39;00m\n\u001b[0;32m    962\u001b[0m addrlist \u001b[38;5;241m=\u001b[39m []\n\u001b[1;32m--> 963\u001b[0m \u001b[38;5;28;01mfor\u001b[39;00m res \u001b[38;5;129;01min\u001b[39;00m \u001b[43m_socket\u001b[49m\u001b[38;5;241;43m.\u001b[39;49m\u001b[43mgetaddrinfo\u001b[49m\u001b[43m(\u001b[49m\u001b[43mhost\u001b[49m\u001b[43m,\u001b[49m\u001b[43m \u001b[49m\u001b[43mport\u001b[49m\u001b[43m,\u001b[49m\u001b[43m \u001b[49m\u001b[43mfamily\u001b[49m\u001b[43m,\u001b[49m\u001b[43m \u001b[49m\u001b[38;5;28;43mtype\u001b[39;49m\u001b[43m,\u001b[49m\u001b[43m \u001b[49m\u001b[43mproto\u001b[49m\u001b[43m,\u001b[49m\u001b[43m \u001b[49m\u001b[43mflags\u001b[49m\u001b[43m)\u001b[49m:\n\u001b[0;32m    964\u001b[0m     af, socktype, proto, canonname, sa \u001b[38;5;241m=\u001b[39m res\n\u001b[0;32m    965\u001b[0m     addrlist\u001b[38;5;241m.\u001b[39mappend((_intenum_converter(af, AddressFamily),\n\u001b[0;32m    966\u001b[0m                      _intenum_converter(socktype, SocketKind),\n\u001b[0;32m    967\u001b[0m                      proto, canonname, sa))\n",
      "File \u001b[1;32mc:\\Users\\Home\\anaconda3\\envs\\spcopenai\\Lib\\encodings\\idna.py:173\u001b[0m, in \u001b[0;36mCodec.encode\u001b[1;34m(self, input, errors)\u001b[0m\n\u001b[0;32m    171\u001b[0m \u001b[38;5;28;01mfor\u001b[39;00m label \u001b[38;5;129;01min\u001b[39;00m labels[:\u001b[38;5;241m-\u001b[39m\u001b[38;5;241m1\u001b[39m]:\n\u001b[0;32m    172\u001b[0m     \u001b[38;5;28;01mif\u001b[39;00m \u001b[38;5;129;01mnot\u001b[39;00m (\u001b[38;5;241m0\u001b[39m \u001b[38;5;241m<\u001b[39m \u001b[38;5;28mlen\u001b[39m(label) \u001b[38;5;241m<\u001b[39m \u001b[38;5;241m64\u001b[39m):\n\u001b[1;32m--> 173\u001b[0m         \u001b[38;5;28;01mraise\u001b[39;00m \u001b[38;5;167;01mUnicodeError\u001b[39;00m(\u001b[38;5;124m\"\u001b[39m\u001b[38;5;124mlabel empty or too long\u001b[39m\u001b[38;5;124m\"\u001b[39m)\n\u001b[0;32m    174\u001b[0m \u001b[38;5;28;01mif\u001b[39;00m \u001b[38;5;28mlen\u001b[39m(labels[\u001b[38;5;241m-\u001b[39m\u001b[38;5;241m1\u001b[39m]) \u001b[38;5;241m>\u001b[39m\u001b[38;5;241m=\u001b[39m \u001b[38;5;241m64\u001b[39m:\n\u001b[0;32m    175\u001b[0m     \u001b[38;5;28;01mraise\u001b[39;00m \u001b[38;5;167;01mUnicodeError\u001b[39;00m(\u001b[38;5;124m\"\u001b[39m\u001b[38;5;124mlabel too long\u001b[39m\u001b[38;5;124m\"\u001b[39m)\n",
      "\u001b[1;31mUnicodeError\u001b[0m: label empty or too long",
      "\u001b[0mencoding with 'idna' codec failed"
     ]
    }
   ],
   "source": [
    "r.set('foo', 'bar')"
   ]
  },
  {
   "cell_type": "code",
   "execution_count": null,
   "metadata": {},
   "outputs": [],
   "source": []
  }
 ],
 "metadata": {
  "kernelspec": {
   "display_name": "spcopenai",
   "language": "python",
   "name": "python3"
  },
  "language_info": {
   "codemirror_mode": {
    "name": "ipython",
    "version": 3
   },
   "file_extension": ".py",
   "mimetype": "text/x-python",
   "name": "python",
   "nbconvert_exporter": "python",
   "pygments_lexer": "ipython3",
   "version": "3.12.2"
  }
 },
 "nbformat": 4,
 "nbformat_minor": 2
}
