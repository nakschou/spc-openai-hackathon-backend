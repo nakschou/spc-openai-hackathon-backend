{
 "cells": [
  {
   "cell_type": "code",
   "execution_count": 1,
   "metadata": {},
   "outputs": [],
   "source": [
    "import requests"
   ]
  },
  {
   "cell_type": "code",
   "execution_count": 12,
   "metadata": {},
   "outputs": [
    {
     "name": "stdout",
     "output_type": "stream",
     "text": [
      "{'reply1': 'Existential crisis, huh?', 'reply2': \"Life's big questions!\", 'reply3': 'To learn and grow.'}\n"
     ]
    }
   ],
   "source": [
    "def test_question_replies(text):    \n",
    "    # The URL you want to make a GET request to\n",
    "    url = 'https://spc-openai-hackathon-backend.onrender.com'\n",
    "    endpoint = '/question_replies'\n",
    "    full_url = url + endpoint\n",
    "\n",
    "    # Assuming you have some variables to pass as query parameters\n",
    "    query_params = {\n",
    "        'text': text,\n",
    "    }\n",
    "\n",
    "    # If you need to add headers\n",
    "    headers = {\n",
    "        'Accept': 'application/json'\n",
    "    }\n",
    "\n",
    "    # Making the GET request with query parameters and headers\n",
    "    response = requests.get(full_url, params=query_params, headers=headers)\n",
    "\n",
    "    # Checking if the request was successful\n",
    "    if response.status_code == 200:\n",
    "        # Processing the response\n",
    "        data = response.json()\n",
    "        print(data)\n",
    "        return data\n",
    "    else:\n",
    "        print('Request failed with status code', response.status_code)\n",
    "        return None"
   ]
  },
  {
   "cell_type": "code",
   "execution_count": 24,
   "metadata": {},
   "outputs": [],
   "source": [
    "def image_filter(image_url, new_filter):    \n",
    "    # The URL you want to make a GET request to\n",
    "    url = 'https://spc-openai-hackathon-backend.onrender.com'\n",
    "    endpoint = '/filter_image'\n",
    "    full_url = url + endpoint\n",
    "\n",
    "    # Assuming you have some variables to pass as query parameters\n",
    "    query_params = {\n",
    "        'image_url': image_url,\n",
    "        'new_filter': new_filter\n",
    "    }\n",
    "\n",
    "    # If you need to add headers\n",
    "    headers = {\n",
    "        'Accept': 'application/json'\n",
    "    }\n",
    "\n",
    "    # Making the GET request with query parameters and headers\n",
    "    response = requests.get(full_url, params=query_params, headers=headers)\n",
    "\n",
    "    # Checking if the request was successful\n",
    "    if response.status_code == 200:\n",
    "        # Processing the response\n",
    "        data = response.json()\n",
    "        print(data)\n",
    "        return data\n",
    "    else:\n",
    "        return response"
   ]
  },
  {
   "cell_type": "code",
   "execution_count": 26,
   "metadata": {},
   "outputs": [],
   "source": [
    "image_url = \"https://nypost.com/wp-content/uploads/sites/2/2024/02/Juan-Soto-1.jpg?w=1024\"\n",
    "new_filter = \"Darth Vader\"\n",
    "res = image_filter(image_url, new_filter)"
   ]
  },
  {
   "cell_type": "code",
   "execution_count": 27,
   "metadata": {},
   "outputs": [
    {
     "data": {
      "text/plain": [
       "'<!doctype html>\\n<html lang=en>\\n<title>500 Internal Server Error</title>\\n<h1>Internal Server Error</h1>\\n<p>The server encountered an internal error and was unable to complete your request. Either the server is overloaded or there is an error in the application.</p>\\n'"
      ]
     },
     "execution_count": 27,
     "metadata": {},
     "output_type": "execute_result"
    }
   ],
   "source": [
    "res.text"
   ]
  },
  {
   "cell_type": "code",
   "execution_count": null,
   "metadata": {},
   "outputs": [],
   "source": []
  }
 ],
 "metadata": {
  "kernelspec": {
   "display_name": "spcopenai",
   "language": "python",
   "name": "python3"
  },
  "language_info": {
   "codemirror_mode": {
    "name": "ipython",
    "version": 3
   },
   "file_extension": ".py",
   "mimetype": "text/x-python",
   "name": "python",
   "nbconvert_exporter": "python",
   "pygments_lexer": "ipython3",
   "version": "3.12.2"
  }
 },
 "nbformat": 4,
 "nbformat_minor": 2
}
