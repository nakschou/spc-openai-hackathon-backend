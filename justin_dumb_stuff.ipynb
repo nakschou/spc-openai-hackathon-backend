{
 "cells": [
  {
   "cell_type": "code",
   "execution_count": 28,
   "metadata": {},
   "outputs": [],
   "source": [
    "import dspy\n",
    "import os\n",
    "from dotenv import load_dotenv\n",
    "import json\n",
    "from openai import OpenAI"
   ]
  },
  {
   "cell_type": "code",
   "execution_count": 35,
   "metadata": {},
   "outputs": [],
   "source": [
    "load_dotenv()\n",
    "OPENAI_API_KEY = os.getenv(\"OPENAI_API_KEY\")\n",
    "turbo = dspy.OpenAI(model='gpt-4', api_key=OPENAI_API_KEY)\n",
    "dspy.configure(lm=turbo)\n",
    "client = OpenAI()"
   ]
  },
  {
   "cell_type": "code",
   "execution_count": 13,
   "metadata": {},
   "outputs": [],
   "source": [
    "class Question_Three_Replies(dspy.Signature):\n",
    "    \"\"\"Given a tweet with a question, generate three possible unique replies\"\"\"\n",
    "\n",
    "    question = dspy.InputField()\n",
    "    reply1 = dspy.OutputField(desc=\"1-5 words\")\n",
    "    reply2 = dspy.OutputField(desc=\"1-5 words\")\n",
    "    reply3 = dspy.OutputField(desc=\"1-5 words\")\n",
    "q_3 = dspy.Predict(Question_Three_Replies)\n",
    "answer = q_3(question=\"What is the meaning of life?\")"
   ]
  },
  {
   "cell_type": "code",
   "execution_count": 135,
   "metadata": {},
   "outputs": [],
   "source": [
    "def filter_image(image_url, new_filter):\n",
    "    response = client.chat.completions.create(\n",
    "    model=\"gpt-4-vision-preview\",\n",
    "        messages=[\n",
    "            {\n",
    "            \"role\": \"assistant\",\n",
    "            \"content\": [\n",
    "                {\"type\": \"text\", \"text\": f\"Briefly describe the contents of the image.\"},\n",
    "                {\n",
    "                \"type\": \"image_url\",\n",
    "                \"image_url\": {\n",
    "                    \"url\": image_url,\n",
    "                },\n",
    "                },\n",
    "            ],\n",
    "            }\n",
    "        ],\n",
    "        max_tokens=300,\n",
    "    )\n",
    "    prompt = response.dict()[\"choices\"][0][\"message\"][\"content\"]\n",
    "    filtered_prompt = f\"Reimagine the following prompt if it were filtered like {new_filter}: {prompt}\"\n",
    "    response = client.images.generate(\n",
    "        model=\"dall-e-3\",\n",
    "        prompt=filtered_prompt,\n",
    "        size=\"1024x1024\",\n",
    "        quality=\"standard\",\n",
    "        n=1,\n",
    "    )\n",
    "    return response\n",
    "\n",
    "url = \"https://upload.wikimedia.org/wikipedia/commons/thumb/d/dd/Gfp-wisconsin-madison-the-nature-boardwalk.jpg/2560px-Gfp-wisconsin-madison-the-nature-boardwalk.jpg\"\n",
    "new_filter = \"Cyberpunk\"\n",
    "res = filter_image(url, new_filter)\n",
    "res.dict()[\"data\"][0][\"url\"]"
   ]
  },
  {
   "cell_type": "code",
   "execution_count": null,
   "metadata": {},
   "outputs": [],
   "source": []
  }
 ],
 "metadata": {
  "kernelspec": {
   "display_name": "spcopenai",
   "language": "python",
   "name": "python3"
  },
  "language_info": {
   "codemirror_mode": {
    "name": "ipython",
    "version": 3
   },
   "file_extension": ".py",
   "mimetype": "text/x-python",
   "name": "python",
   "nbconvert_exporter": "python",
   "pygments_lexer": "ipython3",
   "version": "3.12.2"
  }
 },
 "nbformat": 4,
 "nbformat_minor": 2
}
